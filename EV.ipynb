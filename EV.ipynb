File too large to upload to GitHub directly. Please see Google Colab Link:
https://colab.research.google.com/drive/1pt3b27_fTKLA_pXq6zJCcnmBVrBIx5GR?usp=sharing
